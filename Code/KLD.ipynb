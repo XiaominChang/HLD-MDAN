{
 "cells": [
  {
   "cell_type": "code",
   "execution_count": 282,
   "id": "rolled-niagara",
   "metadata": {},
   "outputs": [],
   "source": [
    "import numpy as np\n",
    "\n",
    "def KLdivergence(x, y):\n",
    "    \"\"\"Compute the Kullback-Leibler divergence between two multivariate samples.\n",
    "\n",
    "    Parameters\n",
    "    ----------\n",
    "    x : 2D array (n,d)\n",
    "      Samples from distribution P, which typically represents the true\n",
    "      distribution.\n",
    "    y : 2D array (m,d)\n",
    "      Samples from distribution Q, which typically represents the approximate\n",
    "      distribution.\n",
    "\n",
    "    Returns\n",
    "    -------\n",
    "    out : float\n",
    "      The estimated Kullback-Leibler divergence D(P||Q).\n",
    "\n",
    "    References\n",
    "    ----------\n",
    "    Pérez-Cruz, F. Kullback-Leibler divergence estimation of\n",
    "continuous distributions IEEE International Symposium on Information\n",
    "Theory, 2008.\n",
    "    \"\"\"\n",
    "    from scipy.spatial import cKDTree as KDTree\n",
    "\n",
    "    # Check the dimensions are consistent\n",
    "    x = np.atleast_2d(x)\n",
    "    y = np.atleast_2d(y)\n",
    "\n",
    "    n,d = x.shape\n",
    "    m,dy = y.shape\n",
    "\n",
    "    assert(d == dy)\n",
    "\n",
    "\n",
    "    # Build a KD tree representation of the samples and find the nearest neighbour\n",
    "    # of each point in x.\n",
    "    xtree = KDTree(x)\n",
    "    ytree = KDTree(y)\n",
    "\n",
    "    # Get the first two nearest neighbours for x, since the closest one is the\n",
    "    # sample itself.\n",
    "    r = xtree.query(x, k=2, eps=.01, p=2)[0][:,1]\n",
    "    s = ytree.query(x, k=1, eps=.01, p=2)[0]\n",
    "    r[r==0]=0.000001\n",
    "    s[s==0]=0.000001\n",
    "    # on the first term of the right hand side.\n",
    "    return -np.log(r/s).sum() * d / n + np.log(m / (n - 1.))"
   ]
  },
  {
   "cell_type": "code",
   "execution_count": 219,
   "id": "prescribed-input",
   "metadata": {},
   "outputs": [],
   "source": [
    "#####################################################Regression#######################################\n",
    "import pandas as pd\n",
    "import numpy as np\n",
    "from sklearn.model_selection import train_test_split\n",
    "from sklearn.preprocessing import StandardScaler,MinMaxScaler\n",
    "def dataProvider(file,windowsize,stepsize,threshold):  \n",
    "    dataframe=pd.read_csv(file,header=0)    \n",
    "    np_array=np.array(dataframe)\n",
    "    inputs, targets=np_array[:, 0], np_array[:, 1]\n",
    "    offset = int(0.5 * (windowsize - 1.0))\n",
    "#     window_num=inputs.size - 2 * offset\n",
    "    features=list()\n",
    "    labels=list()\n",
    "    i=0\n",
    "    while (i<=inputs.size-windowsize):\n",
    "        data_in=inputs[i:i+windowsize]\n",
    "        tar=targets[i+offset]\n",
    "        features.append(data_in)\n",
    "        labels.append(tar)\n",
    "        i=i+stepsize\n",
    "    X=np.array(features)\n",
    "    Y=np.array(labels)\n",
    "    Y[Y<=threshold] = 0\n",
    "    # scaler = MinMaxScaler()\n",
    "    # X=scaler.fit_transform(X)\n",
    "    x_train_all, X, y_train_all, Y = train_test_split(X, Y, test_size=0.2,random_state=100)\n",
    "    return X,Y"
   ]
  },
  {
   "cell_type": "code",
   "execution_count": null,
   "id": "great-persian",
   "metadata": {},
   "outputs": [],
   "source": [
    "import pandas as pd\n",
    "import matplotlib.pyplot as plt\n",
    "from sklearn.preprocessing import MinMaxScaler\n",
    "from sklearn.model_selection import train_test_split\n",
    "def Aggdata(file,threshold):  \n",
    "    dataframe=pd.read_csv(file,header=0)    \n",
    "    np_array=np.array(dataframe)\n",
    "    inputs, targets=np_array[:, 0], np_array[:, 1]\n",
    "    targets[targets<=threshold]=0\n",
    "#     targets[targets>threshold1]=0\n",
    "    return inputs,targets"
   ]
  },
  {
   "cell_type": "code",
   "execution_count": 310,
   "id": "cardiovascular-positive",
   "metadata": {},
   "outputs": [],
   "source": [
    "trainfile1=\"F:/NILM/training_data/fridge_test_.csv\"\n",
    "trainfile2=\"F:/NILM/training_data/fridge_house_2_training_.csv\"\n",
    "trainfile3=\"F:/NILM/ukdale_training/fridge_house_1_training_.csv\"\n",
    "trainfile4=\"F:/NILM/ukdale_training/fridge_house_2_training_.csv\"\n",
    "trainfile5=\"F:/NILM/refit_training/fridge/fridge_house_2_training_.csv\"\n",
    "trainfile6=\"F:/NILM/refit_training/fridge/fridge_house_15_training_.csv\"\n",
    "fileList=[trainfile1,trainfile2,trainfile3,trainfile4,trainfile5,trainfile6]\n",
    "stepsizeList=[2,2,16,16,16,16]\n",
    "data_insts, data_labels, num_insts,on = [], [], [],[]\n",
    "threshold=50\n",
    "for i in range(len(fileList)):\n",
    "    X,Y=dataProvider(fileList[i], 19, stepsizeList[i], threshold)\n",
    "#     Y=Y.reshape(-1,1)\n",
    "    X_on=X[Y>0]\n",
    "    data_insts.append(X_on)\n",
    "    num_insts.append(X_on.shape[0])\n",
    "# min_size=min(num_insts)\n",
    "# x_tem, y_tem=[],[]\n",
    "# for j in range(len(fileList)):\n",
    "#   ridx = np.random.choice(num_insts[j], min_size)\n",
    "#   x_tem.append(data_insts[j][ridx, :])\n",
    "#   num_insts[j]=x_tem[j].shape[0]\n",
    "# data_insts=x_tem\n",
    "# print(num_insts)"
   ]
  },
  {
   "cell_type": "code",
   "execution_count": 283,
   "id": "connected-validation",
   "metadata": {},
   "outputs": [
    {
     "name": "stdout",
     "output_type": "stream",
     "text": [
      "166.40318333502663\n",
      "176.57427391543044\n",
      "183.94715689100548\n",
      "180.0990922764981\n",
      "178.35498001432674\n",
      "finish target house: 1\n",
      "38.65442150153472\n",
      "34.136737335400476\n",
      "23.3792428688165\n",
      "21.919917485613887\n",
      "22.51264019196688\n",
      "finish target house: 2\n",
      "98.38159074538852\n",
      "93.3690324245452\n",
      "65.58269277321577\n",
      "61.21987675429084\n",
      "56.19644971543641\n",
      "finish target house: 5\n"
     ]
    }
   ],
   "source": [
    "from scipy.special import rel_entr\n",
    "for i in [1,2,5]:\n",
    "    for j in range(6):\n",
    "        if j!=i:\n",
    "            kl_pq = KLdivergence(data_insts[i], data_insts[j])\n",
    "            print(kl_pq)\n",
    "    print(\"finish target house:\", i)"
   ]
  },
  {
   "cell_type": "code",
   "execution_count": 311,
   "id": "worse-musical",
   "metadata": {},
   "outputs": [
    {
     "name": "stdout",
     "output_type": "stream",
     "text": [
      "15.415034809950278\n",
      "23.72214530651049\n",
      "32.79654802835539\n",
      "26.222185194743826\n",
      "25.515749184760665\n",
      "finish target house: 1\n",
      "21.754957465363624\n",
      "16.960183587733322\n",
      "5.978791845088534\n",
      "3.659118362906525\n",
      "4.417187188366949\n",
      "finish target house: 2\n",
      "46.1560076450796\n",
      "40.39019514896048\n",
      "10.548114579471859\n",
      "8.135674747322765\n",
      "2.613863997035164\n",
      "finish target house: 5\n"
     ]
    }
   ],
   "source": [
    "from scipy.special import rel_entr\n",
    "for i in [1,2,5]:\n",
    "    for j in range(6):\n",
    "        if j!=i:\n",
    "            kl_pq = KLdivergence(data_insts[i], data_insts[j])\n",
    "            print(kl_pq)\n",
    "    print(\"finish target house:\", i)"
   ]
  },
  {
   "cell_type": "code",
   "execution_count": 330,
   "id": "shaped-trailer",
   "metadata": {},
   "outputs": [],
   "source": [
    "trainfile1=\"F:/NILM/training_data/washingmachine_test_.csv\"\n",
    "trainfile2=\"F:/NILM/training_data/washingmachine_house_3_training_.csv\"\n",
    "trainfile3=\"F:/NILM/ukdale_training/washingmachine_house_1_training_.csv\"\n",
    "trainfile4=\"F:/NILM/ukdale_training/washingmachine_house_2_training_.csv\"\n",
    "trainfile5=\"F:/NILM/refit_training/washingmachine/washingmachine_house_9_training_.csv\"\n",
    "trainfile6=\"F:/NILM/refit_training/washingmachine/washingmachine_house_15_training_.csv\"\n",
    "fileList=[trainfile1,trainfile2,trainfile3,trainfile4,trainfile5,trainfile6]\n",
    "stepsizeList=[2,2,16,16,16,16]\n",
    "data_insts, data_labels, num_insts,on = [], [], [],[]\n",
    "threshold=20\n",
    "for i in range(len(fileList)):\n",
    "    X,Y=dataProvider(fileList[i], 19, stepsizeList[i], threshold)\n",
    "#     Y=Y.reshape(-1,1)\n",
    "    X_on=X[Y>0]\n",
    "    data_insts.append(X_on)\n",
    "    num_insts.append(X_on.shape[0])\n",
    "# min_size=min(num_insts)\n",
    "# x_tem, y_tem=[],[]\n",
    "# for j in range(len(fileList)):\n",
    "#   ridx = np.random.choice(num_insts[j], min_size)\n",
    "#   x_tem.append(data_insts[j][ridx, :])\n",
    "#   num_insts[j]=x_tem[j].shape[0]\n",
    "# data_insts=x_tem\n",
    "# print(num_insts)\n"
   ]
  },
  {
   "cell_type": "code",
   "execution_count": 329,
   "id": "available-hotel",
   "metadata": {},
   "outputs": [
    {
     "name": "stdout",
     "output_type": "stream",
     "text": [
      "244.3877916403603\n",
      "270.3933935609186\n",
      "274.07590493511907\n",
      "260.21045166471947\n",
      "261.5112684048398\n",
      "finish target house: 0\n",
      "65.19633399113575\n",
      "59.32013107211003\n",
      "14.203262507583117\n",
      "11.33554631622295\n",
      "10.771930410318602\n",
      "finish target house: 2\n",
      "116.56131377310304\n",
      "110.35912842249404\n",
      "60.915246761656554\n",
      "64.80533567312479\n",
      "62.387954249074795\n",
      "finish target house: 5\n"
     ]
    }
   ],
   "source": [
    "from scipy.special import rel_entr\n",
    "for i in [0,2,5]:\n",
    "    for j in range(6):\n",
    "        if j!=i:\n",
    "            kl_pq = KLdivergence(data_insts[i], data_insts[j])\n",
    "            print(kl_pq)\n",
    "    print(\"finish target house:\", i)"
   ]
  },
  {
   "cell_type": "code",
   "execution_count": 331,
   "id": "abstract-modification",
   "metadata": {},
   "outputs": [
    {
     "name": "stdout",
     "output_type": "stream",
     "text": [
      "17.46244267808677\n",
      "31.858159476351265\n",
      "48.19630673389472\n",
      "26.307450037260825\n",
      "34.36900955203856\n",
      "finish target house: 0\n",
      "61.571247893147294\n",
      "55.221067597193475\n",
      "10.449693788421463\n",
      "6.35285799047411\n",
      "5.812353831903271\n",
      "finish target house: 2\n",
      "61.223778934081544\n",
      "55.01732859516082\n",
      "2.833398647505657\n",
      "8.428031712470869\n",
      "4.057002499728066\n",
      "finish target house: 5\n"
     ]
    }
   ],
   "source": [
    "from scipy.special import rel_entr\n",
    "for i in [0,2,5]:\n",
    "    for j in range(6):\n",
    "        if j!=i:\n",
    "            kl_pq = KLdivergence(data_insts[i], data_insts[j])\n",
    "            print(kl_pq)\n",
    "    print(\"finish target house:\", i)"
   ]
  },
  {
   "cell_type": "code",
   "execution_count": 324,
   "id": "amended-salmon",
   "metadata": {},
   "outputs": [
    {
     "name": "stdout",
     "output_type": "stream",
     "text": [
      "[752, 187, 5513, 502, 1025, 957]\n"
     ]
    }
   ],
   "source": [
    "trainfile1=\"F:/NILM/training_data/dishwasher_test_.csv\"\n",
    "trainfile2=\"F:/NILM/training_data/dishwasher_house_2_training_.csv\"\n",
    "trainfile3=\"F:/NILM/ukdale_training/dishwasher_house_1_training_.csv\"\n",
    "trainfile4=\"F:/NILM/ukdale_training/dishwasher_house_2_training_.csv\"\n",
    "trainfile5=\"F:/NILM/refit_training/dishwasher/dishwasher_house_13_training_.csv\"\n",
    "trainfile6=\"F:/NILM/refit_training/dishwasher/dishwasher_house_18_training_.csv\"\n",
    "fileList=[trainfile1,trainfile2,trainfile3,trainfile4,trainfile5,trainfile6]\n",
    "data_insts, data_labels, num_insts,on = [], [], [],[]\n",
    "threshold=10\n",
    "for i in range(len(fileList)):\n",
    "    X,Y=dataProvider(fileList[i], 19, stepsizeList[i], threshold)\n",
    "#     Y=Y.reshape(-1,1)\n",
    "    X_on=X[Y>0]\n",
    "    data_insts.append(X_on)\n",
    "    num_insts.append(X_on.shape[0])\n",
    "# min_size=min(num_insts)\n",
    "# x_tem, y_tem=[],[]\n",
    "# for j in range(len(fileList)):\n",
    "#   ridx = np.random.choice(num_insts[j], min_size)\n",
    "#   x_tem.append(data_insts[j][ridx, :])\n",
    "#   num_insts[j]=x_tem[j].shape[0]\n",
    "# data_insts=x_tem\n",
    "print(num_insts)"
   ]
  },
  {
   "cell_type": "code",
   "execution_count": 325,
   "id": "choice-malaysia",
   "metadata": {},
   "outputs": [
    {
     "name": "stdout",
     "output_type": "stream",
     "text": [
      "22.67415925813103\n",
      "35.18048776108499\n",
      "40.4415962163619\n",
      "30.98945647388389\n",
      "23.077540942658842\n",
      "finish target house: 0\n",
      "30.794544415621832\n",
      "40.63324413545042\n",
      "17.09564912852023\n",
      "9.758842617104403\n",
      "22.944288542071842\n",
      "finish target house: 2\n",
      "38.582042431622796\n",
      "48.15651746097504\n",
      "4.423296010602451\n",
      "12.233556496389001\n",
      "28.313751551968725\n",
      "finish target house: 4\n"
     ]
    }
   ],
   "source": [
    "from scipy.special import rel_entr\n",
    "for i in [0,2,4]:\n",
    "    for j in range(6):\n",
    "        if j!=i:\n",
    "            kl_pq = KLdivergence(data_insts[i], data_insts[j])\n",
    "            print(kl_pq)\n",
    "    print(\"finish target house:\", i)"
   ]
  },
  {
   "cell_type": "code",
   "execution_count": 335,
   "id": "grateful-scheduling",
   "metadata": {},
   "outputs": [],
   "source": [
    "trainfile1=\"F:/NILM/training_data/microwave_test_.csv\"\n",
    "trainfile2=\"F:/NILM/training_data/microwave_house_2_training_.csv\"\n",
    "trainfile3=\"F:/NILM/ukdale_training/microwave_house_1_training_.csv\"\n",
    "trainfile4=\"F:/NILM/ukdale_training/microwave_house_2_training_.csv\"\n",
    "trainfile5=\"F:/NILM/refit_training/microwave/microwave_house_10_training_.csv\"\n",
    "trainfile6=\"F:/NILM/refit_training/microwave/microwave_house_17_training_.csv\"\n",
    "fileList=[trainfile1,trainfile2,trainfile3,trainfile4,trainfile5,trainfile6]\n",
    "stepsizeList=[2,1,16,16,16,16]\n",
    "data_insts, data_labels, num_insts,on = [], [], [],[]\n",
    "threshold=200\n",
    "for i in range(len(fileList)):\n",
    "    X,Y=dataProvider(fileList[i], 19, stepsizeList[i], threshold)\n",
    "#     Y=Y.reshape(-1,1)\n",
    "    X_on=X\n",
    "    data_insts.append(X_on)\n",
    "    num_insts.append(X_on.shape[0])\n",
    "# min_size=min(num_insts)\n",
    "# x_tem, y_tem=[],[]\n",
    "# for j in range(len(fileList)):\n",
    "#   ridx = np.random.choice(num_insts[j], min_size)\n",
    "#   x_tem.append(data_insts[j][ridx, :])\n",
    "#   num_insts[j]=x_tem[j].shape[0]\n",
    "# data_insts=x_tem\n",
    "# print(num_insts)"
   ]
  },
  {
   "cell_type": "code",
   "execution_count": 336,
   "id": "accredited-player",
   "metadata": {},
   "outputs": [
    {
     "name": "stdout",
     "output_type": "stream",
     "text": [
      "24.571864055478642\n",
      "24.91820637467816\n",
      "27.631191338522893\n",
      "27.19329468723788\n",
      "13.171383440999186\n",
      "finish target house: 0\n",
      "4.476610602395589\n",
      "23.732593277517854\n",
      "3.3832106071894725\n",
      "7.834875059162877\n",
      "0.27370767362862125\n",
      "finish target house: 3\n",
      "16.34348271911641\n",
      "27.641570674455206\n",
      "21.02647528951969\n",
      "18.776607018690118\n",
      "23.25316328817542\n",
      "finish target house: 5\n"
     ]
    }
   ],
   "source": [
    "from scipy.special import rel_entr\n",
    "for i in [0,3,5]:\n",
    "    for j in range(6):\n",
    "        if j!=i:\n",
    "            kl_pq = KLdivergence(data_insts[i], data_insts[j])\n",
    "            print(kl_pq)\n",
    "    print(\"finish target house:\", i)"
   ]
  },
  {
   "cell_type": "code",
   "execution_count": 215,
   "id": "grateful-release",
   "metadata": {},
   "outputs": [
    {
     "data": {
      "image/png": "[encoded data removed]",
      "text/plain": [
       "<Figure size 432x288 with 1 Axes>"
      ]
     },
     "metadata": {
      "needs_background": "light"
     },
     "output_type": "display_data"
    }
   ],
   "source": [
    "trainfile1=\"F:/NILM/training_data/washingmachine_test_.csv\"\n",
    "trainfile2=\"F:/NILM/training_data/washingmachine_house_3_training_.csv\"\n",
    "trainfile3=\"F:/NILM/ukdale_training/washingmachine_house_1_training_.csv\"\n",
    "trainfile4=\"F:/NILM/ukdale_training/washingmachine_house_2_training_.csv\"\n",
    "trainfile5=\"F:/NILM/refit_training/washingmachine/washingmachine_house_9_training_.csv\"\n",
    "trainfile6=\"F:/NILM/refit_training/washingmachine/washingmachine_house_15_training_.csv\"\n",
    "fileList=[trainfile1,trainfile2,trainfile3,trainfile4,trainfile5,trainfile6]\n",
    "threshold=20\n",
    "a=0\n",
    "data_x=[]\n",
    "for i in range(len(fileList)):\n",
    "    X,Y=Aggdata(fileList[i],threshold)\n",
    "    X_on=X[Y>0]\n",
    "    Y_on=Y[Y>0]\n",
    "    a=plt.hist(X_on,bins=10,label='Aggregate')\n",
    "#     plt.hist(Y_on,bins='auto',label='Fridge')\n",
    "    data_x.append(a[0])"
   ]
  },
  {
   "cell_type": "code",
   "execution_count": 127,
   "id": "under-german",
   "metadata": {},
   "outputs": [
    {
     "name": "stdout",
     "output_type": "stream",
     "text": [
      "2.4694144093700205\n",
      "3.8441544241192265\n",
      "3.0722107358372637\n",
      "3.759651014258139\n",
      "3.8309153553376007\n",
      "finish target house: 0\n",
      "3.659967432811475\n",
      "3.6130185557614753\n",
      "0.23334246958320126\n",
      "0.17197876186596445\n",
      "0.07434696848772396\n",
      "finish target house: 2\n",
      "3.4312758028731123\n",
      "3.4816011189086953\n",
      "0.22774110107773368\n",
      "0.46536953272296827\n",
      "0.6151895805082013\n",
      "finish target house: 4\n"
     ]
    }
   ],
   "source": [
    "from scipy.special import rel_entr\n",
    "for i in [0,2,4]:\n",
    "    for j in range(6):\n",
    "        if j!=i:\n",
    "            kl_pq = scipy.stats.entropy(data_x[i], data_x[j])\n",
    "            print(kl_pq)\n",
    "    print(\"finish target house:\", i)\n"
   ]
  },
  {
   "cell_type": "code",
   "execution_count": 116,
   "id": "organic-campus",
   "metadata": {},
   "outputs": [
    {
     "data": {
      "image/png": "[encoded data removed]",
      "text/plain": [
       "<Figure size 432x288 with 1 Axes>"
      ]
     },
     "metadata": {
      "needs_background": "light"
     },
     "output_type": "display_data"
    }
   ],
   "source": [
    "trainfile1=\"F:/NILM/training_data/dishwasher_house_3_training_.csv\"\n",
    "trainfile2=\"F:/NILM/training_data/dishwasher_house_2_training_.csv\"\n",
    "trainfile3=\"F:/NILM/ukdale_training/dishwasher_house_1_training_.csv\"\n",
    "trainfile4=\"F:/NILM/ukdale_training/dishwasher_house_2_training_.csv\"\n",
    "trainfile5=\"F:/NILM/refit_training/dishwasher/dishwasher_house_13_training_.csv\"\n",
    "trainfile6=\"F:/NILM/refit_training/dishwasher/dishwasher_house_18_training_.csv\"\n",
    "fileList=[trainfile1,trainfile2,trainfile3,trainfile4,trainfile5,trainfile6]\n",
    "threshold=10\n",
    "data_x=[]\n",
    "for i in range(len(fileList)):\n",
    "    X,Y=Aggdata(fileList[i],threshold)\n",
    "    X_on=X[Y>0]\n",
    "    Y_on=Y[Y>0]\n",
    "    a=plt.hist(X_on,bins=10,label='Aggregate')\n",
    "#     plt.hist(Y_on,bins='auto',label='Fridge')\n",
    "    data_x.append(a[0])"
   ]
  },
  {
   "cell_type": "code",
   "execution_count": 117,
   "id": "dutch-tissue",
   "metadata": {},
   "outputs": [
    {
     "name": "stdout",
     "output_type": "stream",
     "text": [
      "1.200665234287846\n",
      "1.3282002131018715\n",
      "1.5187292914381778\n",
      "0.8561287084840643\n",
      "2.2869285185622186\n",
      "finish target house: 0\n",
      "1.1267983463719409\n",
      "1.8723902772278986\n",
      "0.5832240476282641\n",
      "0.663550586412456\n",
      "2.244781929931584\n",
      "finish target house: 2\n",
      "0.6606931892609268\n",
      "1.1500691097236093\n",
      "1.0513994570651208\n",
      "2.9335498488687444\n",
      "3.3327153840485897\n",
      "finish target house: 4\n"
     ]
    }
   ],
   "source": [
    "from scipy.special import rel_entr\n",
    "for i in [0,2,4]:\n",
    "    for j in range(6):\n",
    "        if j!=i:\n",
    "            kl_pq = scipy.stats.entropy(data_x[i], data_x[j])\n",
    "            print(kl_pq)\n",
    "    print(\"finish target house:\", i)"
   ]
  },
  {
   "cell_type": "code",
   "execution_count": 114,
   "id": "accompanied-contemporary",
   "metadata": {},
   "outputs": [
    {
     "data": {
      "image/png": "[encoded data removed]",
      "text/plain": [
       "<Figure size 432x288 with 1 Axes>"
      ]
     },
     "metadata": {
      "needs_background": "light"
     },
     "output_type": "display_data"
    }
   ],
   "source": [
    "trainfile1=\"F:/NILM/training_data/microwave_test_.csv\"\n",
    "trainfile2=\"F:/NILM/training_data/microwave_house_2_training_.csv\"\n",
    "trainfile3=\"F:/NILM/ukdale_training/microwave_house_1_training_.csv\"\n",
    "trainfile4=\"F:/NILM/ukdale_training/microwave_house_2_training_.csv\"\n",
    "trainfile5=\"F:/NILM/refit_training/microwave/microwave_house_10_training_.csv\"\n",
    "trainfile6=\"F:/NILM/refit_training/microwave/microwave_house_17_training_.csv\"\n",
    "fileList=[trainfile1,trainfile2,trainfile3,trainfile4,trainfile5,trainfile6]\n",
    "threshold=10\n",
    "a=0\n",
    "data_x=[]\n",
    "for i in range(len(fileList)):\n",
    "    X,Y=Aggdata(fileList[i],threshold)\n",
    "    X_on=X[Y>0]\n",
    "    Y_on=Y[Y>0]\n",
    "    a=plt.hist(X_on,bins=10,label='Aggregate')\n",
    "#     plt.hist(Y_on,bins='auto',label='Fridge')\n",
    "    data_x.append(a[0])"
   ]
  },
  {
   "cell_type": "code",
   "execution_count": 115,
   "id": "widespread-degree",
   "metadata": {},
   "outputs": [
    {
     "name": "stdout",
     "output_type": "stream",
     "text": [
      "0.42472322806747365\n",
      "0.905072729441318\n",
      "1.9548413865094347\n",
      "0.31974247788630594\n",
      "0.2010261998317342\n",
      "finish target house: 0\n",
      "1.1025487187091534\n",
      "0.709255819144457\n",
      "1.112293253395603\n",
      "0.6423723598395722\n",
      "1.0567267432352911\n",
      "finish target house: 3\n",
      "0.23351194572166084\n",
      "0.8362366304024992\n",
      "1.0625518853662086\n",
      "1.7931380539577222\n",
      "0.4364526492657898\n",
      "finish target house: 5\n"
     ]
    }
   ],
   "source": [
    "from scipy.special import rel_entr\n",
    "for i in [0,3,5]:\n",
    "    for j in range(6):\n",
    "        if j!=i:\n",
    "            kl_pq = scipy.stats.entropy(data_x[i], data_x[j])\n",
    "            print(kl_pq)\n",
    "    print(\"finish target house:\", i)"
   ]
  }
 ],
 "metadata": {
  "kernelspec": {
   "display_name": "Python 3",
   "language": "python",
   "name": "python3"
  },
  "language_info": {
   "codemirror_mode": {
    "name": "ipython",
    "version": 3
   },
   "file_extension": ".py",
   "mimetype": "text/x-python",
   "name": "python",
   "nbconvert_exporter": "python",
   "pygments_lexer": "ipython3",
   "version": "3.7.4"
  }
 },
 "nbformat": 4,
 "nbformat_minor": 5
}
